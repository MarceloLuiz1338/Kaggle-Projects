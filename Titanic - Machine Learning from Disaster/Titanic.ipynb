{
 "cells": [
  {
   "cell_type": "markdown",
   "metadata": {},
   "source": [
    "## Importing libraries, reading and understanding the data"
   ]
  },
  {
   "cell_type": "code",
   "execution_count": 67,
   "metadata": {
    "execution": {
     "iopub.execute_input": "2021-05-25T10:54:46.490658Z",
     "iopub.status.busy": "2021-05-25T10:54:46.490172Z",
     "iopub.status.idle": "2021-05-25T10:54:46.522396Z",
     "shell.execute_reply": "2021-05-25T10:54:46.521417Z",
     "shell.execute_reply.started": "2021-05-25T10:54:46.490624Z"
    }
   },
   "outputs": [],
   "source": [
    "import pandas as pd\n",
    "import numpy as np\n",
    "import matplotlib.pyplot as plt\n",
    "%matplotlib inline\n",
    "import warnings\n",
    "warnings.filterwarnings('ignore')\n",
    "import seaborn as sns\n",
    "import matplotlib.pyplot as plt\n",
    "sns.set_style('whitegrid')\n",
    "\n",
    "train=pd.read_csv('train.csv')\n",
    "test=pd.read_csv('test.csv')\n",
    "\n",
    "from sklearn.preprocessing import MinMaxScaler\n",
    "from sklearn.neighbors import KNeighborsClassifier\n",
    "from sklearn.linear_model import LogisticRegression\n",
    "from sklearn.svm import SVC\n",
    "from sklearn.tree import DecisionTreeClassifier\n",
    "from sklearn.ensemble import (RandomForestClassifier,  \n",
    "                              GradientBoostingClassifier,\n",
    "                              VotingClassifier)\n",
    "from sklearn.model_selection import cross_val_score,StratifiedKFold,GridSearchCV"
   ]
  },
  {
   "cell_type": "code",
   "execution_count": 68,
   "metadata": {},
   "outputs": [
    {
     "data": {
      "text/plain": [
       "((891, 12), (418, 11))"
      ]
     },
     "execution_count": 68,
     "metadata": {},
     "output_type": "execute_result"
    }
   ],
   "source": [
    "train.shape, test.shape"
   ]
  },
  {
   "cell_type": "code",
   "execution_count": 69,
   "metadata": {},
   "outputs": [
    {
     "data": {
      "text/html": [
       "<div>\n",
       "<style scoped>\n",
       "    .dataframe tbody tr th:only-of-type {\n",
       "        vertical-align: middle;\n",
       "    }\n",
       "\n",
       "    .dataframe tbody tr th {\n",
       "        vertical-align: top;\n",
       "    }\n",
       "\n",
       "    .dataframe thead th {\n",
       "        text-align: right;\n",
       "    }\n",
       "</style>\n",
       "<table border=\"1\" class=\"dataframe\">\n",
       "  <thead>\n",
       "    <tr style=\"text-align: right;\">\n",
       "      <th></th>\n",
       "      <th>PassengerId</th>\n",
       "      <th>Survived</th>\n",
       "      <th>Pclass</th>\n",
       "      <th>Name</th>\n",
       "      <th>Sex</th>\n",
       "      <th>Age</th>\n",
       "      <th>SibSp</th>\n",
       "      <th>Parch</th>\n",
       "      <th>Ticket</th>\n",
       "      <th>Fare</th>\n",
       "      <th>Cabin</th>\n",
       "      <th>Embarked</th>\n",
       "    </tr>\n",
       "  </thead>\n",
       "  <tbody>\n",
       "    <tr>\n",
       "      <th>0</th>\n",
       "      <td>1</td>\n",
       "      <td>0</td>\n",
       "      <td>3</td>\n",
       "      <td>Braund, Mr. Owen Harris</td>\n",
       "      <td>male</td>\n",
       "      <td>22.0</td>\n",
       "      <td>1</td>\n",
       "      <td>0</td>\n",
       "      <td>A/5 21171</td>\n",
       "      <td>7.2500</td>\n",
       "      <td>NaN</td>\n",
       "      <td>S</td>\n",
       "    </tr>\n",
       "    <tr>\n",
       "      <th>1</th>\n",
       "      <td>2</td>\n",
       "      <td>1</td>\n",
       "      <td>1</td>\n",
       "      <td>Cumings, Mrs. John Bradley (Florence Briggs Th...</td>\n",
       "      <td>female</td>\n",
       "      <td>38.0</td>\n",
       "      <td>1</td>\n",
       "      <td>0</td>\n",
       "      <td>PC 17599</td>\n",
       "      <td>71.2833</td>\n",
       "      <td>C85</td>\n",
       "      <td>C</td>\n",
       "    </tr>\n",
       "    <tr>\n",
       "      <th>2</th>\n",
       "      <td>3</td>\n",
       "      <td>1</td>\n",
       "      <td>3</td>\n",
       "      <td>Heikkinen, Miss. Laina</td>\n",
       "      <td>female</td>\n",
       "      <td>26.0</td>\n",
       "      <td>0</td>\n",
       "      <td>0</td>\n",
       "      <td>STON/O2. 3101282</td>\n",
       "      <td>7.9250</td>\n",
       "      <td>NaN</td>\n",
       "      <td>S</td>\n",
       "    </tr>\n",
       "    <tr>\n",
       "      <th>3</th>\n",
       "      <td>4</td>\n",
       "      <td>1</td>\n",
       "      <td>1</td>\n",
       "      <td>Futrelle, Mrs. Jacques Heath (Lily May Peel)</td>\n",
       "      <td>female</td>\n",
       "      <td>35.0</td>\n",
       "      <td>1</td>\n",
       "      <td>0</td>\n",
       "      <td>113803</td>\n",
       "      <td>53.1000</td>\n",
       "      <td>C123</td>\n",
       "      <td>S</td>\n",
       "    </tr>\n",
       "    <tr>\n",
       "      <th>4</th>\n",
       "      <td>5</td>\n",
       "      <td>0</td>\n",
       "      <td>3</td>\n",
       "      <td>Allen, Mr. William Henry</td>\n",
       "      <td>male</td>\n",
       "      <td>35.0</td>\n",
       "      <td>0</td>\n",
       "      <td>0</td>\n",
       "      <td>373450</td>\n",
       "      <td>8.0500</td>\n",
       "      <td>NaN</td>\n",
       "      <td>S</td>\n",
       "    </tr>\n",
       "  </tbody>\n",
       "</table>\n",
       "</div>"
      ],
      "text/plain": [
       "   PassengerId  Survived  Pclass  \\\n",
       "0            1         0       3   \n",
       "1            2         1       1   \n",
       "2            3         1       3   \n",
       "3            4         1       1   \n",
       "4            5         0       3   \n",
       "\n",
       "                                                Name     Sex   Age  SibSp  \\\n",
       "0                            Braund, Mr. Owen Harris    male  22.0      1   \n",
       "1  Cumings, Mrs. John Bradley (Florence Briggs Th...  female  38.0      1   \n",
       "2                             Heikkinen, Miss. Laina  female  26.0      0   \n",
       "3       Futrelle, Mrs. Jacques Heath (Lily May Peel)  female  35.0      1   \n",
       "4                           Allen, Mr. William Henry    male  35.0      0   \n",
       "\n",
       "   Parch            Ticket     Fare Cabin Embarked  \n",
       "0      0         A/5 21171   7.2500   NaN        S  \n",
       "1      0          PC 17599  71.2833   C85        C  \n",
       "2      0  STON/O2. 3101282   7.9250   NaN        S  \n",
       "3      0            113803  53.1000  C123        S  \n",
       "4      0            373450   8.0500   NaN        S  "
      ]
     },
     "execution_count": 69,
     "metadata": {},
     "output_type": "execute_result"
    }
   ],
   "source": [
    "train.head()"
   ]
  },
  {
   "cell_type": "code",
   "execution_count": 70,
   "metadata": {
    "execution": {
     "iopub.execute_input": "2021-05-25T10:54:46.532809Z",
     "iopub.status.busy": "2021-05-25T10:54:46.532544Z",
     "iopub.status.idle": "2021-05-25T10:54:46.554125Z",
     "shell.execute_reply": "2021-05-25T10:54:46.552986Z",
     "shell.execute_reply.started": "2021-05-25T10:54:46.532782Z"
    }
   },
   "outputs": [
    {
     "data": {
      "text/plain": [
       "['PassengerId', 'Survived', 'Pclass', 'Age', 'SibSp', 'Parch', 'Fare']"
      ]
     },
     "execution_count": 70,
     "metadata": {},
     "output_type": "execute_result"
    }
   ],
   "source": [
    "##filtering only numeric atributes\n",
    "train_num=list(train.select_dtypes(exclude='object'))\n",
    "train_num"
   ]
  },
  {
   "cell_type": "code",
   "execution_count": 71,
   "metadata": {
    "execution": {
     "iopub.execute_input": "2021-05-25T10:54:57.513039Z",
     "iopub.status.busy": "2021-05-25T10:54:57.512633Z",
     "iopub.status.idle": "2021-05-25T10:54:57.521338Z",
     "shell.execute_reply": "2021-05-25T10:54:57.520132Z",
     "shell.execute_reply.started": "2021-05-25T10:54:57.512996Z"
    }
   },
   "outputs": [
    {
     "data": {
      "text/plain": [
       "['Name', 'Sex', 'Ticket', 'Cabin', 'Embarked']"
      ]
     },
     "execution_count": 71,
     "metadata": {},
     "output_type": "execute_result"
    }
   ],
   "source": [
    "##filtering only categoric atributes\n",
    "train_cat=list(train.select_dtypes(include='object'))\n",
    "train_cat"
   ]
  },
  {
   "cell_type": "markdown",
   "metadata": {},
   "source": [
    "## Univariate Analysis"
   ]
  },
  {
   "cell_type": "code",
   "execution_count": 72,
   "metadata": {
    "execution": {
     "iopub.execute_input": "2021-05-25T10:54:58.680904Z",
     "iopub.status.busy": "2021-05-25T10:54:58.680550Z",
     "iopub.status.idle": "2021-05-25T10:54:59.056217Z",
     "shell.execute_reply": "2021-05-25T10:54:59.055159Z",
     "shell.execute_reply.started": "2021-05-25T10:54:58.680871Z"
    }
   },
   "outputs": [
    {
     "data": {
      "image/png": "[encoded data removed]",
      "text/plain": [
       "<Figure size 1080x1080 with 4 Axes>"
      ]
     },
     "metadata": {},
     "output_type": "display_data"
    }
   ],
   "source": [
    "##Understanding the data and relevant columns\n",
    "plt.subplot(441)\n",
    "train['Survived'].value_counts().plot.bar(figsize=(15,15),color=['r','b'])\n",
    "plt.subplot(442)\n",
    "sns.countplot(x='Sex', data=train, hue='Survived')\n",
    "plt.subplot(443)\n",
    "sns.countplot(x='Embarked', data=train, hue='Survived')\n",
    "plt.subplot(444)\n",
    "sns.countplot(x='Pclass', data=train, hue='Survived');\n"
   ]
  },
  {
   "cell_type": "code",
   "execution_count": 73,
   "metadata": {
    "execution": {
     "iopub.execute_input": "2021-05-25T10:55:04.118095Z",
     "iopub.status.busy": "2021-05-25T10:55:04.117712Z",
     "iopub.status.idle": "2021-05-25T10:55:04.401556Z",
     "shell.execute_reply": "2021-05-25T10:55:04.400472Z",
     "shell.execute_reply.started": "2021-05-25T10:55:04.118059Z"
    }
   },
   "outputs": [
    {
     "data": {
      "image/png": "[encoded data removed]",
      "text/plain": [
       "<Figure size 432x288 with 1 Axes>"
      ]
     },
     "metadata": {},
     "output_type": "display_data"
    }
   ],
   "source": [
    "sns.scatterplot(x='Age', y='Fare', data=train, hue='Survived')\n",
    "plt.show()  #obs: the 2 outliers will be excluded latter"
   ]
  },
  {
   "cell_type": "markdown",
   "metadata": {},
   "source": [
    "## Adjusting the data"
   ]
  },
  {
   "cell_type": "markdown",
   "metadata": {},
   "source": [
    "#### Treating the name column"
   ]
  },
  {
   "cell_type": "code",
   "execution_count": 74,
   "metadata": {},
   "outputs": [],
   "source": [
    "#Let's check if the title is relevant\n",
    "titles = [title[1][:-1] for title in train['Name'].str.split(\" \")]\n",
    "train['Title'] = titles\n",
    "titles = [title[1][:-1] for title in test['Name'].str.split(\" \")]\n",
    "test['Title'] = titles"
   ]
  },
  {
   "cell_type": "code",
   "execution_count": 75,
   "metadata": {},
   "outputs": [
    {
     "data": {
      "text/plain": [
       "Shawah        1\n",
       "Pelsmaeker    1\n",
       "de            1\n",
       "Jonkheer      1\n",
       "Velde         1\n",
       "Name: Title, dtype: int64"
      ]
     },
     "execution_count": 75,
     "metadata": {},
     "output_type": "execute_result"
    }
   ],
   "source": [
    "train['Title'].value_counts().tail()"
   ]
  },
  {
   "cell_type": "code",
   "execution_count": 76,
   "metadata": {},
   "outputs": [],
   "source": [
    "train['Title'].fillna('Q', inplace=True)"
   ]
  },
  {
   "cell_type": "code",
   "execution_count": 77,
   "metadata": {},
   "outputs": [],
   "source": [
    "#Here I decided to agroup the title in five categories: Mr, Miss, Mrs, Master and Others, to avoid model complexity, since these are the main categories.\n",
    "titles=['Mr', 'Mrs', 'Miss', 'Dr', 'Ms']\n",
    "for x in range(len(train['Title'])):\n",
    "    if train['Title'][x] not in titles:\n",
    "        train['Title'][x]='Other'\n",
    "for x in range(len(test['Title'])):\n",
    "    if test['Title'][x] not in titles:\n",
    "        test['Title'][x]='Other'\n"
   ]
  },
  {
   "cell_type": "code",
   "execution_count": 78,
   "metadata": {},
   "outputs": [
    {
     "data": {
      "image/png": "[encoded data removed]",
      "text/plain": [
       "<Figure size 432x288 with 1 Axes>"
      ]
     },
     "metadata": {},
     "output_type": "display_data"
    }
   ],
   "source": [
    "sns.barplot(x = train[:len(train)]['Title'], y = train['Survived']);"
   ]
  },
  {
   "cell_type": "markdown",
   "metadata": {},
   "source": [
    "Conclusion: title is relevant and will be used in the model."
   ]
  },
  {
   "cell_type": "markdown",
   "metadata": {},
   "source": [
    "#### Excluding useless columns"
   ]
  },
  {
   "cell_type": "code",
   "execution_count": 79,
   "metadata": {},
   "outputs": [
    {
     "data": {
      "text/plain": [
       "C23 C25 C27    4\n",
       "B96 B98        4\n",
       "G6             4\n",
       "C22 C26        3\n",
       "D              3\n",
       "              ..\n",
       "A19            1\n",
       "C90            1\n",
       "B73            1\n",
       "B19            1\n",
       "A24            1\n",
       "Name: Cabin, Length: 147, dtype: int64"
      ]
     },
     "execution_count": 79,
     "metadata": {},
     "output_type": "execute_result"
    }
   ],
   "source": [
    "train['Cabin'].value_counts()"
   ]
  },
  {
   "cell_type": "code",
   "execution_count": 80,
   "metadata": {
    "execution": {
     "iopub.execute_input": "2021-05-25T10:55:29.732889Z",
     "iopub.status.busy": "2021-05-25T10:55:29.732500Z",
     "iopub.status.idle": "2021-05-25T10:55:29.747908Z",
     "shell.execute_reply": "2021-05-25T10:55:29.746839Z",
     "shell.execute_reply.started": "2021-05-25T10:55:29.732855Z"
    }
   },
   "outputs": [],
   "source": [
    "ids=test['PassengerId']\n",
    "train.drop(['Cabin','PassengerId','Name','Ticket'], axis=1, inplace=True)\n",
    "test.drop(['Cabin','PassengerId','Name','Ticket'], axis=1, inplace=True)\n",
    "\n",
    "#too much different values, so these columns aren't much useful."
   ]
  },
  {
   "cell_type": "markdown",
   "metadata": {},
   "source": [
    "#### Treating null values"
   ]
  },
  {
   "cell_type": "code",
   "execution_count": 81,
   "metadata": {},
   "outputs": [
    {
     "data": {
      "text/plain": [
       "Survived      0\n",
       "Pclass        0\n",
       "Sex           0\n",
       "Age         177\n",
       "SibSp         0\n",
       "Parch         0\n",
       "Fare          0\n",
       "Embarked      2\n",
       "Title         0\n",
       "dtype: int64"
      ]
     },
     "execution_count": 81,
     "metadata": {},
     "output_type": "execute_result"
    }
   ],
   "source": [
    "train.isnull().sum()"
   ]
  },
  {
   "cell_type": "code",
   "execution_count": 82,
   "metadata": {},
   "outputs": [],
   "source": [
    "train['Embarked'].fillna('Q', inplace=True)\n",
    "test['Embarked'].fillna('Q', inplace=True)\n",
    "#replacing by Q since this is the category that have a closer suvivor distribution\n",
    "# when compared to the overall survivor distribution."
   ]
  },
  {
   "cell_type": "code",
   "execution_count": 83,
   "metadata": {},
   "outputs": [
    {
     "data": {
      "text/plain": [
       "Survived   -0.077221\n",
       "Pclass     -0.369226\n",
       "Age         1.000000\n",
       "SibSp      -0.308247\n",
       "Parch      -0.189119\n",
       "Fare        0.096067\n",
       "Name: Age, dtype: float64"
      ]
     },
     "execution_count": 83,
     "metadata": {},
     "output_type": "execute_result"
    }
   ],
   "source": [
    "#I must substitute the null values at the age column. let's see it's correlations:\n",
    "train.corr()['Age']"
   ]
  },
  {
   "cell_type": "code",
   "execution_count": 84,
   "metadata": {},
   "outputs": [],
   "source": [
    "#The correlation between age and 'survived' isn't that high, so I decided to just fill the null values with the mean age.\n",
    "#Another option would be using it's correlation with Pclass to fill it's null values.\n",
    "#Discarding the column isn't a good option since people aged under 10 have a considerable higher chance to survive.\n",
    "train=train.fillna(train['Age'].mean())\n",
    "test=test.fillna(train['Age'].mean())"
   ]
  },
  {
   "cell_type": "markdown",
   "metadata": {},
   "source": [
    "#### Making dummy columns"
   ]
  },
  {
   "cell_type": "code",
   "execution_count": 85,
   "metadata": {},
   "outputs": [],
   "source": [
    "train=pd.get_dummies(train, drop_first=True)\n",
    "test=pd.get_dummies(test, drop_first=True)"
   ]
  },
  {
   "cell_type": "markdown",
   "metadata": {},
   "source": [
    "#### Excluding outliers"
   ]
  },
  {
   "cell_type": "code",
   "execution_count": 86,
   "metadata": {},
   "outputs": [],
   "source": [
    "train=train[train['Fare']<500]"
   ]
  },
  {
   "cell_type": "markdown",
   "metadata": {},
   "source": [
    "## Model Building"
   ]
  },
  {
   "cell_type": "code",
   "execution_count": 87,
   "metadata": {},
   "outputs": [],
   "source": [
    "X=train.drop(columns='Survived')\n",
    "y=train['Survived']"
   ]
  },
  {
   "cell_type": "markdown",
   "metadata": {},
   "source": [
    "I will use the following models:\n",
    "\n",
    "Logistic Regression, \n",
    "SVC, \n",
    "Decision Tree, \n",
    "Random Forest,\n",
    "Gradient Descent, \n",
    "K-Nearest Neighbors"
   ]
  },
  {
   "cell_type": "code",
   "execution_count": 100,
   "metadata": {},
   "outputs": [],
   "source": [
    "log_reg = LogisticRegression(penalty='l2',C = 10)\n",
    "svc = svm = SVC()\n",
    "decision_tree = DecisionTreeClassifier()\n",
    "rand_forest = RandomForestClassifier()\n",
    "grad_desc = GradientBoostingClassifier()\n",
    "knn = KNeighborsClassifier()\n",
    "names=['log_reg','svc','decision_tree','rand_forest','grad_desc','knn']\n",
    "models=[log_reg,svc,decision_tree,rand_forest,grad_desc,knn]\n"
   ]
  },
  {
   "cell_type": "markdown",
   "metadata": {},
   "source": [
    "#### Testing each model performance:"
   ]
  },
  {
   "cell_type": "code",
   "execution_count": 90,
   "metadata": {},
   "outputs": [],
   "source": [
    "kfold = StratifiedKFold(n_splits = 10)\n",
    "def model_perf(model, X_train, y_train):\n",
    "    cv_scores = cross_val_score(model, X, y, n_jobs = 4, cv = kfold, scoring = 'accuracy')\n",
    "    mean = cv_scores.mean()\n",
    "    std = cv_scores.std()\n",
    "    \n",
    "    return mean, std"
   ]
  },
  {
   "cell_type": "code",
   "execution_count": 91,
   "metadata": {},
   "outputs": [],
   "source": [
    "def run_all(models, models_name):\n",
    "    \n",
    "    models_mean = []\n",
    "    models_std = []\n",
    "    \n",
    "    for model in models:\n",
    "        mean, std = model_perf(model, X, y)\n",
    "        models_mean.append(mean)\n",
    "        models_std.append(std)\n",
    "        \n",
    "    results = pd.DataFrame({\"Model_Name\" : models_name, \"Mean_score\" : models_mean, \"STD_score\" : models_std})\n",
    "    \n",
    "    return results"
   ]
  },
  {
   "cell_type": "code",
   "execution_count": 92,
   "metadata": {},
   "outputs": [
    {
     "data": {
      "text/html": [
       "<div>\n",
       "<style scoped>\n",
       "    .dataframe tbody tr th:only-of-type {\n",
       "        vertical-align: middle;\n",
       "    }\n",
       "\n",
       "    .dataframe tbody tr th {\n",
       "        vertical-align: top;\n",
       "    }\n",
       "\n",
       "    .dataframe thead th {\n",
       "        text-align: right;\n",
       "    }\n",
       "</style>\n",
       "<table border=\"1\" class=\"dataframe\">\n",
       "  <thead>\n",
       "    <tr style=\"text-align: right;\">\n",
       "      <th></th>\n",
       "      <th>Model_Name</th>\n",
       "      <th>Mean_score</th>\n",
       "      <th>STD_score</th>\n",
       "    </tr>\n",
       "  </thead>\n",
       "  <tbody>\n",
       "    <tr>\n",
       "      <th>0</th>\n",
       "      <td>log_reg</td>\n",
       "      <td>0.814211</td>\n",
       "      <td>0.027489</td>\n",
       "    </tr>\n",
       "    <tr>\n",
       "      <th>1</th>\n",
       "      <td>svc</td>\n",
       "      <td>0.680222</td>\n",
       "      <td>0.049011</td>\n",
       "    </tr>\n",
       "    <tr>\n",
       "      <th>2</th>\n",
       "      <td>decision_tree</td>\n",
       "      <td>0.779379</td>\n",
       "      <td>0.047092</td>\n",
       "    </tr>\n",
       "    <tr>\n",
       "      <th>3</th>\n",
       "      <td>rand_forest</td>\n",
       "      <td>0.806359</td>\n",
       "      <td>0.038976</td>\n",
       "    </tr>\n",
       "    <tr>\n",
       "      <th>4</th>\n",
       "      <td>grad_desc</td>\n",
       "      <td>0.833376</td>\n",
       "      <td>0.042127</td>\n",
       "    </tr>\n",
       "    <tr>\n",
       "      <th>5</th>\n",
       "      <td>knn</td>\n",
       "      <td>0.720787</td>\n",
       "      <td>0.035763</td>\n",
       "    </tr>\n",
       "  </tbody>\n",
       "</table>\n",
       "</div>"
      ],
      "text/plain": [
       "      Model_Name  Mean_score  STD_score\n",
       "0        log_reg    0.814211   0.027489\n",
       "1            svc    0.680222   0.049011\n",
       "2  decision_tree    0.779379   0.047092\n",
       "3    rand_forest    0.806359   0.038976\n",
       "4      grad_desc    0.833376   0.042127\n",
       "5            knn    0.720787   0.035763"
      ]
     },
     "execution_count": 92,
     "metadata": {},
     "output_type": "execute_result"
    }
   ],
   "source": [
    "run_all(models,names)"
   ]
  },
  {
   "cell_type": "markdown",
   "metadata": {},
   "source": [
    "So I decided to exclude the svc classifier and make a voting classifier with the others."
   ]
  },
  {
   "cell_type": "markdown",
   "metadata": {},
   "source": [
    "#### Hyperparameter tunning:"
   ]
  },
  {
   "cell_type": "code",
   "execution_count": 93,
   "metadata": {},
   "outputs": [],
   "source": [
    "models_grid = {\n",
    "    \"SVC\" : {\n",
    "        \"model\" : SVC(),\n",
    "        \"parameters\" : {\n",
    "            'C': [0.1, 1, 10, 100, 267, 1000], \n",
    "            'gamma': [1, 0.1, 0.01, 0.001, 0.0001],\n",
    "            'kernel': ['rbf']\n",
    "        }\n",
    "    },\n",
    "    \n",
    "    \"RandomForest\" : {\n",
    "        \"model\" : RandomForestClassifier(),\n",
    "        \"parameters\" : {\n",
    "            \"max_depth\": [None],\n",
    "            \"max_features\": [1, 3, 10],\n",
    "            \"min_samples_split\": [2, 3, 10],\n",
    "            \"min_samples_leaf\": [1, 3, 10],\n",
    "            \"bootstrap\": [False, True],\n",
    "            \"n_estimators\" :[100,300, 500],\n",
    "            \"criterion\": [\"gini\"]\n",
    "        }\n",
    "    },\n",
    "    \n",
    "    \"KNN\" : {\n",
    "        \"model\" : KNeighborsClassifier(),\n",
    "        \"parameters\" : {\n",
    "            \"n_neighbors\" : [5, 10, 20, 27],\n",
    "            \"weights\" : [\"uniform\", \"distance\"],\n",
    "            \"algorithm\" : [\"auto\", \"ball_tree\", \"brute\"]\n",
    "        }\n",
    "    },\n",
    "    \n",
    "     \"LogisticRegression\" : {\n",
    "         \"model\" : LogisticRegression(),\n",
    "         \"parameters\" : {\n",
    "             \"penalty\" : [\"l1\", \"l2\", \"elasticnet\"],\n",
    "             \"solver\" : [\"newton-cg\", \"lbfgs\", \"liblinear\", \"sag\"]\n",
    "         }\n",
    "     },\n",
    "    \n",
    "    \"DecisionTree\" : {\n",
    "        \"model\" : DecisionTreeClassifier(),\n",
    "        \"parameters\" : {\n",
    "            \n",
    "        }\n",
    "    },\n",
    "    \n",
    "    \"GradientBoosting\" : {\n",
    "        \"model\" : GradientBoostingClassifier(),\n",
    "        \"parameters\" : {\n",
    "            'loss' : [\"deviance\"],\n",
    "            'n_estimators' : [100,200,300],\n",
    "            'learning_rate': [0.1, 0.05, 0.01],\n",
    "            'max_depth': [3,6,9],\n",
    "            'min_samples_leaf': [1,50,100],\n",
    "            'max_features': [None,0.3, 0.1] \n",
    "        }\n",
    "    },    \n",
    "    \n",
    "    \n",
    "    \n",
    "    \n",
    "    \n",
    "}"
   ]
  },
  {
   "cell_type": "code",
   "execution_count": 48,
   "metadata": {},
   "outputs": [],
   "source": [
    "scores = []\n",
    "params = []\n",
    "best_estimators = []\n",
    "for estimator_info in models_grid.keys():\n",
    "    estimator = models_grid[estimator_info]\n",
    "    grid_srch = GridSearchCV(estimator = estimator['model'], param_grid = estimator['parameters'], \n",
    "                             scoring = 'accuracy', n_jobs = 4, cv = kfold)\n",
    "    grid_srch.fit(X, y)\n",
    "    scores.append(gftyyyyyrid_srch.best_score_)\n",
    "    params.append(grid_srch.best_params_)\n",
    "    best_estimators.append(grid_srch.best_estimator_)"
   ]
  },
  {
   "cell_type": "code",
   "execution_count": 94,
   "metadata": {},
   "outputs": [
    {
     "data": {
      "text/html": [
       "<div>\n",
       "<style scoped>\n",
       "    .dataframe tbody tr th:only-of-type {\n",
       "        vertical-align: middle;\n",
       "    }\n",
       "\n",
       "    .dataframe tbody tr th {\n",
       "        vertical-align: top;\n",
       "    }\n",
       "\n",
       "    .dataframe thead th {\n",
       "        text-align: right;\n",
       "    }\n",
       "</style>\n",
       "<table border=\"1\" class=\"dataframe\">\n",
       "  <thead>\n",
       "    <tr style=\"text-align: right;\">\n",
       "      <th></th>\n",
       "      <th>Model_Name</th>\n",
       "      <th>Model_score</th>\n",
       "      <th>Model_params</th>\n",
       "    </tr>\n",
       "  </thead>\n",
       "  <tbody>\n",
       "    <tr>\n",
       "      <th>0</th>\n",
       "      <td>SVC</td>\n",
       "      <td>0.814275</td>\n",
       "      <td>{'C': 1000, 'gamma': 0.0001, 'kernel': 'rbf'}</td>\n",
       "    </tr>\n",
       "    <tr>\n",
       "      <th>1</th>\n",
       "      <td>RandomForest</td>\n",
       "      <td>0.844688</td>\n",
       "      <td>{'bootstrap': True, 'criterion': 'gini', 'max_...</td>\n",
       "    </tr>\n",
       "    <tr>\n",
       "      <th>2</th>\n",
       "      <td>KNN</td>\n",
       "      <td>0.735432</td>\n",
       "      <td>{'algorithm': 'auto', 'n_neighbors': 10, 'weig...</td>\n",
       "    </tr>\n",
       "    <tr>\n",
       "      <th>3</th>\n",
       "      <td>LogisticRegression</td>\n",
       "      <td>0.816496</td>\n",
       "      <td>{'penalty': 'l2', 'solver': 'lbfgs'}</td>\n",
       "    </tr>\n",
       "    <tr>\n",
       "      <th>4</th>\n",
       "      <td>DecisionTree</td>\n",
       "      <td>0.770365</td>\n",
       "      <td>{}</td>\n",
       "    </tr>\n",
       "    <tr>\n",
       "      <th>5</th>\n",
       "      <td>GradientBoosting</td>\n",
       "      <td>0.841279</td>\n",
       "      <td>{'learning_rate': 0.05, 'loss': 'deviance', 'm...</td>\n",
       "    </tr>\n",
       "  </tbody>\n",
       "</table>\n",
       "</div>"
      ],
      "text/plain": [
       "           Model_Name  Model_score  \\\n",
       "0                 SVC     0.814275   \n",
       "1        RandomForest     0.844688   \n",
       "2                 KNN     0.735432   \n",
       "3  LogisticRegression     0.816496   \n",
       "4        DecisionTree     0.770365   \n",
       "5    GradientBoosting     0.841279   \n",
       "\n",
       "                                        Model_params  \n",
       "0      {'C': 1000, 'gamma': 0.0001, 'kernel': 'rbf'}  \n",
       "1  {'bootstrap': True, 'criterion': 'gini', 'max_...  \n",
       "2  {'algorithm': 'auto', 'n_neighbors': 10, 'weig...  \n",
       "3               {'penalty': 'l2', 'solver': 'lbfgs'}  \n",
       "4                                                 {}  \n",
       "5  {'learning_rate': 0.05, 'loss': 'deviance', 'm...  "
      ]
     },
     "execution_count": 94,
     "metadata": {},
     "output_type": "execute_result"
    }
   ],
   "source": [
    "pd.DataFrame({\"Model_Name\" : models_grid.keys(), \"Model_score\" : scores, \"Model_params\" : params})\n"
   ]
  },
  {
   "cell_type": "markdown",
   "metadata": {},
   "source": [
    "So I decided to use the GradientBoosting classifier to make the prediction:"
   ]
  },
  {
   "cell_type": "markdown",
   "metadata": {},
   "source": [
    "#### Making the prediction"
   ]
  },
  {
   "cell_type": "code",
   "execution_count": 101,
   "metadata": {},
   "outputs": [],
   "source": [
    "grad_desc = GradientBoostingClassifier(learning_rate=0.05,loss='deviance',max_depth=9,max_features=0.3,min_samples_leaf=50,n_estimators=300)"
   ]
  },
  {
   "cell_type": "code",
   "execution_count": 102,
   "metadata": {},
   "outputs": [
    {
     "data": {
      "text/plain": [
       "GradientBoostingClassifier(learning_rate=0.05, max_depth=9, max_features=0.3,\n",
       "                           min_samples_leaf=50, n_estimators=300)"
      ]
     },
     "execution_count": 102,
     "metadata": {},
     "output_type": "execute_result"
    }
   ],
   "source": [
    "grad_desc.fit(X,y)"
   ]
  },
  {
   "cell_type": "code",
   "execution_count": 103,
   "metadata": {},
   "outputs": [],
   "source": [
    "submission_predictions = pd.Series(grad_desc.predict(test), name=\"Survived\")\n",
    "submission_df = pd.DataFrame({\"Survived\" : submission_predictions, \"PassengerId\" :ids})\n",
    "submission_df.to_csv(\"submission.csv\", index=False)"
   ]
  },
  {
   "cell_type": "code",
   "execution_count": 104,
   "metadata": {},
   "outputs": [
    {
     "data": {
      "text/html": [
       "<div>\n",
       "<style scoped>\n",
       "    .dataframe tbody tr th:only-of-type {\n",
       "        vertical-align: middle;\n",
       "    }\n",
       "\n",
       "    .dataframe tbody tr th {\n",
       "        vertical-align: top;\n",
       "    }\n",
       "\n",
       "    .dataframe thead th {\n",
       "        text-align: right;\n",
       "    }\n",
       "</style>\n",
       "<table border=\"1\" class=\"dataframe\">\n",
       "  <thead>\n",
       "    <tr style=\"text-align: right;\">\n",
       "      <th></th>\n",
       "      <th>Survived</th>\n",
       "      <th>PassengerId</th>\n",
       "    </tr>\n",
       "  </thead>\n",
       "  <tbody>\n",
       "    <tr>\n",
       "      <th>0</th>\n",
       "      <td>0</td>\n",
       "      <td>892</td>\n",
       "    </tr>\n",
       "    <tr>\n",
       "      <th>1</th>\n",
       "      <td>0</td>\n",
       "      <td>893</td>\n",
       "    </tr>\n",
       "    <tr>\n",
       "      <th>2</th>\n",
       "      <td>0</td>\n",
       "      <td>894</td>\n",
       "    </tr>\n",
       "    <tr>\n",
       "      <th>3</th>\n",
       "      <td>0</td>\n",
       "      <td>895</td>\n",
       "    </tr>\n",
       "    <tr>\n",
       "      <th>4</th>\n",
       "      <td>1</td>\n",
       "      <td>896</td>\n",
       "    </tr>\n",
       "    <tr>\n",
       "      <th>...</th>\n",
       "      <td>...</td>\n",
       "      <td>...</td>\n",
       "    </tr>\n",
       "    <tr>\n",
       "      <th>413</th>\n",
       "      <td>0</td>\n",
       "      <td>1305</td>\n",
       "    </tr>\n",
       "    <tr>\n",
       "      <th>414</th>\n",
       "      <td>1</td>\n",
       "      <td>1306</td>\n",
       "    </tr>\n",
       "    <tr>\n",
       "      <th>415</th>\n",
       "      <td>0</td>\n",
       "      <td>1307</td>\n",
       "    </tr>\n",
       "    <tr>\n",
       "      <th>416</th>\n",
       "      <td>0</td>\n",
       "      <td>1308</td>\n",
       "    </tr>\n",
       "    <tr>\n",
       "      <th>417</th>\n",
       "      <td>0</td>\n",
       "      <td>1309</td>\n",
       "    </tr>\n",
       "  </tbody>\n",
       "</table>\n",
       "<p>418 rows × 2 columns</p>\n",
       "</div>"
      ],
      "text/plain": [
       "     Survived  PassengerId\n",
       "0           0          892\n",
       "1           0          893\n",
       "2           0          894\n",
       "3           0          895\n",
       "4           1          896\n",
       "..        ...          ...\n",
       "413         0         1305\n",
       "414         1         1306\n",
       "415         0         1307\n",
       "416         0         1308\n",
       "417         0         1309\n",
       "\n",
       "[418 rows x 2 columns]"
      ]
     },
     "execution_count": 104,
     "metadata": {},
     "output_type": "execute_result"
    }
   ],
   "source": [
    "submission_df"
   ]
  }
 ],
 "metadata": {
  "kernelspec": {
   "display_name": "Python 3",
   "language": "python",
   "name": "python3"
  },
  "language_info": {
   "codemirror_mode": {
    "name": "ipython",
    "version": 3
   },
   "file_extension": ".py",
   "mimetype": "text/x-python",
   "name": "python",
   "nbconvert_exporter": "python",
   "pygments_lexer": "ipython3",
   "version": "3.8.5"
  }
 },
 "nbformat": 4,
 "nbformat_minor": 4
}
